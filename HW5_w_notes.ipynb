{
  "nbformat": 4,
  "nbformat_minor": 0,
  "metadata": {
    "colab": {
      "name": "HW5_w_notes.ipynb",
      "provenance": [],
      "collapsed_sections": [],
      "authorship_tag": "ABX9TyPEXz1pXHIFNmW1fB/X9G2y",
      "include_colab_link": true
    },
    "kernelspec": {
      "name": "python3",
      "display_name": "Python 3"
    },
    "language_info": {
      "name": "python"
    }
  },
  "cells": [
    {
      "cell_type": "markdown",
      "metadata": {
        "id": "view-in-github",
        "colab_type": "text"
      },
      "source": [
        "<a href=\"https://colab.research.google.com/github/Pittella0/HomeWork/blob/main/HW5_w_notes.ipynb\" target=\"_parent\"><img src=\"https://colab.research.google.com/assets/colab-badge.svg\" alt=\"Open In Colab\"/></a>"
      ]
    },
    {
      "cell_type": "code",
      "execution_count": null,
      "metadata": {
        "id": "n0KyqPxvXiFg"
      },
      "outputs": [],
      "source": [
        "num = int(input(\"Gimme a even number \"))\n",
        "if num % 2 ==0:\n",
        "  print(\"Cool, you followed directions\")\n",
        "else:\n",
        "  print(\"Dude comon\")\n"
      ]
    },
    {
      "cell_type": "code",
      "source": [
        "secret_number = 12345\n",
        "guess = -1\n",
        "chances = 0\n",
        "gotit = True \n",
        "\n",
        "while secret_number != guess:\n",
        "  if (chances >= 3):\n",
        "    print(\"Too many chances\")\n",
        "    gotit = False\n",
        "    break\n",
        "\n",
        "  guess = int(input(\"Please disclose the secret number\\t\"))\n",
        "  chances += 1\n",
        "\n",
        "if gotit:\n",
        "  print(\"COOL, GOT IT\")\n",
        "else:\n",
        "  print(\"NAH\")"
      ],
      "metadata": {
        "colab": {
          "base_uri": "https://localhost:8080/"
        },
        "id": "Fo8zbu87YiQl",
        "outputId": "af7a8f54-33ef-40c6-e6b4-73eea599255b"
      },
      "execution_count": null,
      "outputs": [
        {
          "output_type": "stream",
          "name": "stdout",
          "text": [
            "Please disclose the secret number\t12345\n",
            "COOL\n"
          ]
        }
      ]
    },
    {
      "cell_type": "code",
      "source": [
        "x = 1\n",
        "while x <= 10:\n",
        "  print(x, end = \"|||\")\n",
        "  "
      ],
      "metadata": {
        "id": "l6cDpKB5b8Vt"
      },
      "execution_count": null,
      "outputs": []
    },
    {
      "cell_type": "code",
      "source": [
        "val = .01\n",
        "\n",
        "for i in range(1,30):\n",
        "  print(f\"{i:d}\\t${val:,.2f}\")\n",
        "  val += val\n"
      ],
      "metadata": {
        "colab": {
          "base_uri": "https://localhost:8080/"
        },
        "id": "HbCbnEtfmF7p",
        "outputId": "f7105b92-552e-4195-9736-bad4f4014fe0"
      },
      "execution_count": null,
      "outputs": [
        {
          "output_type": "stream",
          "name": "stdout",
          "text": [
            "1\t$0.01\n",
            "2\t$0.02\n",
            "3\t$0.04\n",
            "4\t$0.08\n",
            "5\t$0.16\n",
            "6\t$0.32\n",
            "7\t$0.64\n",
            "8\t$1.28\n",
            "9\t$2.56\n",
            "10\t$5.12\n",
            "11\t$10.24\n",
            "12\t$20.48\n",
            "13\t$40.96\n",
            "14\t$81.92\n",
            "15\t$163.84\n",
            "16\t$327.68\n",
            "17\t$655.36\n",
            "18\t$1,310.72\n",
            "19\t$2,621.44\n",
            "20\t$5,242.88\n",
            "21\t$10,485.76\n",
            "22\t$20,971.52\n",
            "23\t$41,943.04\n",
            "24\t$83,886.08\n",
            "25\t$167,772.16\n",
            "26\t$335,544.32\n",
            "27\t$671,088.64\n",
            "28\t$1,342,177.28\n",
            "29\t$2,684,354.56\n"
          ]
        }
      ]
    },
    {
      "cell_type": "code",
      "source": [
        "name = input(\"Please enter name\\t\")\n",
        "while not(name.isalpha()):\n",
        "  name = input(\"Please enter name\\t\")\n",
        "name = str(name)\n",
        "\n",
        "age = input(\"Please give your age\\t\")\n",
        "while not(age.isdigit()):\n",
        "  age = input(\"Please give your age\\t\")\n",
        "age = int(age)\n",
        "\n",
        "counter = 0\n",
        "uncool = False\n",
        "# if age < 1 or age > 100:\n",
        "#   age = int(input(\"Please give your age\\t\"))\n",
        "#   counter += 1\n",
        "\n",
        "# if counter >= 3:\n",
        "#   print(\"Unacceptable\")\n",
        "# else:\n",
        "#   print(\"Acceptable\")\n",
        "\n",
        "while age < 1 or age > 100:\n",
        "  if counter >= 3:\n",
        "    uncool = True\n",
        "    break\n",
        "    print(\"Unacceptable\")\n",
        "  age = int(input(\"age please\\t\"))\n",
        "  counter += 1\n",
        "if uncool == True:\n",
        "  print(\"Unacceptable\")"
      ],
      "metadata": {
        "colab": {
          "base_uri": "https://localhost:8080/"
        },
        "id": "4z55xM-pr58U",
        "outputId": "839e9f4e-10da-433a-8553-93c4b5f46b12"
      },
      "execution_count": 89,
      "outputs": [
        {
          "output_type": "stream",
          "name": "stdout",
          "text": [
            "Please enter name\ttony\n",
            "Please give your age\t123\n",
            "age please\t123\n",
            "age please\t123\n",
            "age please\t123\n",
            "Unacceptable\n"
          ]
        }
      ]
    },
    {
      "cell_type": "code",
      "source": [
        "#pull digits from numner\n",
        "\n",
        "# x = 321\n",
        "# print(x%100)\n",
        "# print(x%10)\n",
        "# print(x//10)\n",
        "# print(x//100)\n",
        "\n",
        "x = 8413\n",
        "total = 0\n",
        "has_3 = False\n",
        "holder = x\n",
        "\n",
        "#check 3\n",
        "while(holder > 0):\n",
        "  if(holder%10 == 3):\n",
        "    has_3 = True\n",
        "    break\n",
        "  holder = holder // 10\n",
        "\n",
        "#adds digits\n",
        "while(has_3 and x > 0):\n",
        "  total += x%10\n",
        "  x = x//10\n",
        "print(total)\n",
        "\n"
      ],
      "metadata": {
        "colab": {
          "base_uri": "https://localhost:8080/"
        },
        "id": "8Ab7UhoOvjCJ",
        "outputId": "a0f8a7e6-1db6-482f-ab88-5e84e8308860"
      },
      "execution_count": 75,
      "outputs": [
        {
          "output_type": "stream",
          "name": "stdout",
          "text": [
            "16\n"
          ]
        }
      ]
    },
    {
      "cell_type": "markdown",
      "source": [
        "## HAS 3\n"
      ],
      "metadata": {
        "id": "-whwo3xn2lM7"
      }
    },
    {
      "cell_type": "code",
      "source": [
        "\n",
        "\n",
        "\n",
        "for x in range(1,101):\n",
        "  has_3 = False\n",
        "  holder = x\n",
        "  while(holder > 0):\n",
        "    if(holder%10 == 3):\n",
        "      has_3 = True\n",
        "      break\n",
        "    holder = holder // 10\n",
        "  if(has_3):\n",
        "    print(x, end=\" \")\n"
      ],
      "metadata": {
        "colab": {
          "base_uri": "https://localhost:8080/"
        },
        "id": "rs7_4cnRyd9R",
        "outputId": "841f90b7-08d5-49a9-a73d-02b74fb615bb"
      },
      "execution_count": 63,
      "outputs": [
        {
          "output_type": "stream",
          "name": "stdout",
          "text": [
            "3 13 23 30 31 32 33 34 35 36 37 38 39 43 53 63 73 83 93 "
          ]
        }
      ]
    },
    {
      "cell_type": "markdown",
      "source": [
        "## 17\n"
      ],
      "metadata": {
        "id": "QXMxrqrT2p5J"
      }
    },
    {
      "cell_type": "code",
      "source": [
        "for x in range(1, 1001):\n",
        "  total =0 \n",
        "  holder = x\n",
        "  while(holder > 0):\n",
        "    total += holder%10\n",
        "    holder = holder//10\n",
        "  if(total == 17):\n",
        "    print(x, end = \" \")"
      ],
      "metadata": {
        "colab": {
          "base_uri": "https://localhost:8080/"
        },
        "id": "tVNLFZsxzUtb",
        "outputId": "2152b7b7-adf1-46fb-f57c-a5cdc6157af6"
      },
      "execution_count": 65,
      "outputs": [
        {
          "output_type": "stream",
          "name": "stdout",
          "text": [
            "89 98 179 188 197 269 278 287 296 359 368 377 386 395 449 458 467 476 485 494 539 548 557 566 575 584 593 629 638 647 656 665 674 683 692 719 728 737 746 755 764 773 782 791 809 818 827 836 845 854 863 872 881 890 908 917 926 935 944 953 962 971 980 "
          ]
        }
      ]
    },
    {
      "cell_type": "markdown",
      "source": [
        "##23\n"
      ],
      "metadata": {
        "id": "Bz-wg9yW3ag6"
      }
    },
    {
      "cell_type": "code",
      "source": [
        "for i in range(1,10001):\n",
        "  total =0\n",
        "  has_3 = False\n",
        "  x = holder = i\n",
        "  #check 3\n",
        "  while(holder > 0):\n",
        "    if(holder%10 == 3):\n",
        "      has_3 = True\n",
        "      break\n",
        "    holder = holder // 10\n",
        "\n",
        "  #adds digits\n",
        "  while(has_3 and x > 0):\n",
        "    total += x%10\n",
        "    x = x//10\n",
        "  if(total == 23):\n",
        "    print(i, end = \" \")"
      ],
      "metadata": {
        "colab": {
          "base_uri": "https://localhost:8080/"
        },
        "id": "gmBET9k10eGx",
        "outputId": "41473605-79cd-4042-e642-593586518c54"
      },
      "execution_count": 72,
      "outputs": [
        {
          "output_type": "stream",
          "name": "stdout",
          "text": [
            "2399 2939 2993 3299 3389 3398 3479 3488 3497 3569 3578 3587 3596 3659 3668 3677 3686 3695 3749 3758 3767 3776 3785 3794 3839 3848 3857 3866 3875 3884 3893 3929 3938 3947 3956 3965 3974 3983 3992 4379 4388 4397 4739 4793 4838 4883 4937 4973 5369 5378 5387 5396 5639 5693 5738 5783 5837 5873 5936 5963 6359 6368 6377 6386 6395 6539 6593 6638 6683 6737 6773 6836 6863 6935 6953 7349 7358 7367 7376 7385 7394 7439 7493 7538 7583 7637 7673 7736 7763 7835 7853 7934 7943 8339 8348 8357 8366 8375 8384 8393 8438 8483 8537 8573 8636 8663 8735 8753 8834 8843 8933 9239 9293 9329 9338 9347 9356 9365 9374 9383 9392 9437 9473 9536 9563 9635 9653 9734 9743 9833 9923 9932 "
          ]
        }
      ]
    },
    {
      "cell_type": "code",
      "source": [
        "for i in range(100,0,-1):\n",
        "  print(i, end=\" * \")"
      ],
      "metadata": {
        "colab": {
          "base_uri": "https://localhost:8080/"
        },
        "id": "fU2xr2A73fx_",
        "outputId": "63a5e7fb-5f2a-48e3-8d21-21835e1626bc"
      },
      "execution_count": 82,
      "outputs": [
        {
          "output_type": "stream",
          "name": "stdout",
          "text": [
            "100 * 99 * 98 * 97 * 96 * 95 * 94 * 93 * 92 * 91 * 90 * 89 * 88 * 87 * 86 * 85 * 84 * 83 * 82 * 81 * 80 * 79 * 78 * 77 * 76 * 75 * 74 * 73 * 72 * 71 * 70 * 69 * 68 * 67 * 66 * 65 * 64 * 63 * 62 * 61 * 60 * 59 * 58 * 57 * 56 * 55 * 54 * 53 * 52 * 51 * 50 * 49 * 48 * 47 * 46 * 45 * 44 * 43 * 42 * 41 * 40 * 39 * 38 * 37 * 36 * 35 * 34 * 33 * 32 * 31 * 30 * 29 * 28 * 27 * 26 * 25 * 24 * 23 * 22 * 21 * 20 * 19 * 18 * 17 * 16 * 15 * 14 * 13 * 12 * 11 * 10 * 9 * 8 * 7 * 6 * 5 * 4 * 3 * 2 * 1 * "
          ]
        }
      ]
    },
    {
      "cell_type": "code",
      "source": [
        "for i in range(100,1001):\n",
        "  isprime = True\n",
        "  start = 2\n",
        "  while(start < i):\n",
        "    if i % start ==0:\n",
        "      isprime = False\n",
        "    start += 1\n",
        "  if isprime:\n",
        "    print(i, end = \" ~ \")"
      ],
      "metadata": {
        "colab": {
          "base_uri": "https://localhost:8080/"
        },
        "id": "-kH1hxAh3pvZ",
        "outputId": "90309b80-fe3a-4f88-b85b-d246520caae3"
      },
      "execution_count": 81,
      "outputs": [
        {
          "output_type": "stream",
          "name": "stdout",
          "text": [
            "101 ~ 103 ~ 107 ~ 109 ~ 113 ~ 127 ~ 131 ~ 137 ~ 139 ~ 149 ~ 151 ~ 157 ~ 163 ~ 167 ~ 173 ~ 179 ~ 181 ~ 191 ~ 193 ~ 197 ~ 199 ~ 211 ~ 223 ~ 227 ~ 229 ~ 233 ~ 239 ~ 241 ~ 251 ~ 257 ~ 263 ~ 269 ~ 271 ~ 277 ~ 281 ~ 283 ~ 293 ~ 307 ~ 311 ~ 313 ~ 317 ~ 331 ~ 337 ~ 347 ~ 349 ~ 353 ~ 359 ~ 367 ~ 373 ~ 379 ~ 383 ~ 389 ~ 397 ~ 401 ~ 409 ~ 419 ~ 421 ~ 431 ~ 433 ~ 439 ~ 443 ~ 449 ~ 457 ~ 461 ~ 463 ~ 467 ~ 479 ~ 487 ~ 491 ~ 499 ~ 503 ~ 509 ~ 521 ~ 523 ~ 541 ~ 547 ~ 557 ~ 563 ~ 569 ~ 571 ~ 577 ~ 587 ~ 593 ~ 599 ~ 601 ~ 607 ~ 613 ~ 617 ~ 619 ~ 631 ~ 641 ~ 643 ~ 647 ~ 653 ~ 659 ~ 661 ~ 673 ~ 677 ~ 683 ~ 691 ~ 701 ~ 709 ~ 719 ~ 727 ~ 733 ~ 739 ~ 743 ~ 751 ~ 757 ~ 761 ~ 769 ~ 773 ~ 787 ~ 797 ~ 809 ~ 811 ~ 821 ~ 823 ~ 827 ~ 829 ~ 839 ~ 853 ~ 857 ~ 859 ~ 863 ~ 877 ~ 881 ~ 883 ~ 887 ~ 907 ~ 911 ~ 919 ~ 929 ~ 937 ~ 941 ~ 947 ~ 953 ~ 967 ~ 971 ~ 977 ~ 983 ~ 991 ~ 997 ~ "
          ]
        }
      ]
    },
    {
      "cell_type": "code",
      "source": [
        ""
      ],
      "metadata": {
        "id": "-fv2y8pt3dpr"
      },
      "execution_count": null,
      "outputs": []
    }
  ]
}