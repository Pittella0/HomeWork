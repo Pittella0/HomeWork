{
  "nbformat": 4,
  "nbformat_minor": 0,
  "metadata": {
    "colab": {
      "name": "WK_8",
      "provenance": [],
      "authorship_tag": "ABX9TyPRtBcD9PrM/y4E+Bh6BoH/",
      "include_colab_link": true
    },
    "kernelspec": {
      "name": "python3",
      "display_name": "Python 3"
    },
    "language_info": {
      "name": "python"
    }
  },
  "cells": [
    {
      "cell_type": "markdown",
      "metadata": {
        "id": "view-in-github",
        "colab_type": "text"
      },
      "source": [
        "<a href=\"https://colab.research.google.com/github/Pittella0/HomeWork/blob/main/WK_8.ipynb\" target=\"_parent\"><img src=\"https://colab.research.google.com/assets/colab-badge.svg\" alt=\"Open In Colab\"/></a>"
      ]
    },
    {
      "cell_type": "markdown",
      "source": [
        "## Python review\n",
        "use the / to seperate lines\n",
        "```\n",
        "5 + 6 /\n",
        "+ 7\n",
        "\n",
        "```"
      ],
      "metadata": {
        "id": "qQ08UYjRTqLT"
      }
    },
    {
      "cell_type": "code",
      "execution_count": 39,
      "metadata": {
        "colab": {
          "base_uri": "https://localhost:8080/"
        },
        "id": "sHKBEPkIRue7",
        "outputId": "f597f8ab-4e62-496f-c287-95cd6e544945"
      },
      "outputs": [
        {
          "output_type": "stream",
          "name": "stdout",
          "text": [
            "26\n",
            "26\n",
            "127.92\n",
            "Prime numbers from 1 to 25 is: [2, 3, 5, 7, 11, 13, 17, 19, 23]\n",
            "3 5 7 9 11 13 15 17 19 21 23 25 \n",
            "Coprime:  [1, 5, 7, 11]\n",
            "Total: 4\n",
            "3 and 5\n",
            "5 and 7\n",
            "7 and 9\n",
            "9 and 11\n",
            "11 and 13\n",
            "13 and 15\n",
            "15 and 17\n",
            "17 and 19\n",
            "19 and 21\n",
            "21 and 23\n",
            "23 and 25\n"
          ]
        }
      ],
      "source": [
        "import numpy as np\n",
        "\n",
        "\n",
        "# question 1\n",
        "def average_nums(num1,num2):\n",
        "  _add = num1 + num2\n",
        "  _av = _add * 2\n",
        "  print(_av)\n",
        "\n",
        "# av of list\n",
        "def avg_of_list(nums):\n",
        "  total = 0\n",
        "  for i in nums:\n",
        "    total += i\n",
        "  return total/len(nums)\n",
        "nums = [1,2,3,4,5,6,7,8,9]\n",
        "avg_of_list(nums)\n",
        "\n",
        "# get weighted average with np\n",
        "def expectedValue(info, weights):\n",
        "  return (info @ weights)\n",
        "\n",
        "# question 2\n",
        "\n",
        "def sum_from_n1_to_n2(num1,num2):\n",
        "  total = 0\n",
        "  for i in range(num1,num2+1):\n",
        "    total +=i \n",
        "  print(total)\n",
        "\n",
        "\n",
        "# question 3\n",
        " #that takes in a item_cost, the percentage_off, and the tax.  It should return the total cost of the item.\n",
        "def totalCost(item_cost,percentage_off, tax):\n",
        "  #convert inputs to decimals\n",
        "  decim = percentage_off / 100\n",
        "  tax = tax / 100\n",
        "  # find the discount\n",
        "  discount = item_cost * decim\n",
        "  #find item with discount\n",
        "  itemDisc = item_cost - discount\n",
        "  #apply tax remember to add 1 to get the tax\n",
        "  total_cost = itemDisc * (1 + tax)\n",
        "  print(total_cost)\n",
        "\n",
        "# question 4\n",
        "#prime\n",
        "# my way\n",
        "def prime_and_below(num):\n",
        "  prime = []\n",
        "  for x in range (1, num+1):  \n",
        "    if x > 1:  \n",
        "      for i in range (2, x):  \n",
        "        if (x % i) == 0:  \n",
        "          break  \n",
        "      else: \n",
        "        prime.append(x)\n",
        "  print(f\"Prime numbers from 1 to {num} is: {prime}\")\n",
        "\n",
        "# your way\n",
        "def isPrime(num):\n",
        "  for i in range(2, num):\n",
        "    if (num % i == 0):\n",
        "      return False\n",
        "    return True\n",
        "def listPrimes(num):\n",
        "  for i in range(2,num+1):\n",
        "    if isPrime(i):\n",
        "      print(i, end = \" \")\n",
        "\n",
        "\n",
        "\n",
        "# question 5\n",
        "#Create a function that takes in a number, and outputs all the numbers below it that are coprime to it\n",
        "def isCoPrime(a,b):\n",
        "  #make sure a is less then b\n",
        "  if(a > b):\n",
        "    holder = a\n",
        "    a = b\n",
        "    b = holder\n",
        "  for i in range(2,a+1):\n",
        "    if(a%i ==0 and b%i == 0):\n",
        "      return False\n",
        "  return True\n",
        "\n",
        "# def listCoPrimes(num):\n",
        "#   for i in range(1,num):\n",
        "#     if isCoPrime(i, num):\n",
        "#       print(i, end = \"~~\")\n",
        "\n",
        "# question 6\n",
        "def listCoPrimes(num):\n",
        "  total = 0\n",
        "  coprimes = []\n",
        "  for i in range(1,num):\n",
        "    if isCoPrime(i, num):\n",
        "      coprimes.append(i)\n",
        "      total += 1\n",
        "  print(f\"\\nCoprime:  {coprimes}\\nTotal: {total}\")\n",
        "\n",
        "\n",
        "# question 7\n",
        "#Create a function that takes in a number and outputs all the numbers below it that are twin primes\n",
        "# my way\n",
        "def isTwinPrime(start,fin):\n",
        "  for i in range(start, fin):\n",
        "    twin= i + 2\n",
        "    if( isPrime(i) and isPrime(twin)):\n",
        "      print(f\"{i} and {twin}\")\n",
        "\n",
        "# your way\n",
        "def isTwinP(s):\n",
        "  if(isPrime(s) and isPrime(s)):\n",
        "    return True\n",
        "  return False\n",
        "\n",
        "def listTwinPrimes(num):\n",
        "  for i in range(2,num+1):\n",
        "    if(isTwinP(i)):\n",
        "      print(i,i+2)\n",
        "\n",
        "# question 8\n",
        "#Two people are playing the game rock, paper, scissors.  \n",
        "#Create a function that finds the probability of winning for each option using 10,000 trials.\n",
        "#Output said probabilities\n",
        "\n",
        "\n",
        "\n",
        "\n",
        "\n",
        "if __name__ == \"__main__\": \n",
        "  num1=5\n",
        "  num2=8\n",
        "  #these 2 can use num1 num2\n",
        "  #q1\n",
        "  average_nums(num1,num2)\n",
        "  #q2\n",
        "  sum_from_n1_to_n2(num1,num2)\n",
        "  #total cost\n",
        "  #q3\n",
        "  item_cost = 130\n",
        "  percentage_off = 20\n",
        "  tax = 23\n",
        "  totalCost(item_cost,percentage_off, tax)\n",
        "  #q4\n",
        "  #prime\n",
        "  num = 25\n",
        "  prime_and_below(num)\n",
        "  listPrimes(num)\n",
        "\n",
        "  #q5 / q6\n",
        "  listCoPrimes(12)\n",
        "\n",
        "  #q7\n",
        "  isTwinPrime(2,25)"
      ]
    },
    {
      "cell_type": "code",
      "source": [
        "\n",
        "def shapeNumbers(shape):\n",
        "  if(shape == \"triangle\"):\n",
        "    skipVal= 1\n",
        "  elif(shape == \"square\"):\n",
        "    skipVal = 2\n",
        "  elif(shape == \"pentagon\"):\n",
        "    skipVal = 3\n",
        "  total = 0\n",
        "  for i in range(1,100,skipVal):\n",
        "    total+=i\n",
        "    print(total, end =\"||\")\n",
        "  print()\n",
        "\n",
        "\n",
        "shapeNumbers(\"triangle\")\n",
        "shapeNumbers(\"square\")\n",
        "shapeNumbers(\"pentagon\")\n",
        "\n",
        "#list of primes below some number\n",
        "#first check if prime\n",
        "\n",
        "\n",
        "\n",
        "\n"
      ],
      "metadata": {
        "colab": {
          "base_uri": "https://localhost:8080/"
        },
        "id": "8CZ0WSPVbjGD",
        "outputId": "d83702c0-fdee-4374-854b-59f85648159b"
      },
      "execution_count": null,
      "outputs": [
        {
          "output_type": "stream",
          "name": "stdout",
          "text": [
            "1||3||6||10||15||21||28||36||45||55||66||78||91||105||120||136||153||171||190||210||231||253||276||300||325||351||378||406||435||465||496||528||561||595||630||666||703||741||780||820||861||903||946||990||1035||1081||1128||1176||1225||1275||1326||1378||1431||1485||1540||1596||1653||1711||1770||1830||1891||1953||2016||2080||2145||2211||2278||2346||2415||2485||2556||2628||2701||2775||2850||2926||3003||3081||3160||3240||3321||3403||3486||3570||3655||3741||3828||3916||4005||4095||4186||4278||4371||4465||4560||4656||4753||4851||4950||\n",
            "1||4||9||16||25||36||49||64||81||100||121||144||169||196||225||256||289||324||361||400||441||484||529||576||625||676||729||784||841||900||961||1024||1089||1156||1225||1296||1369||1444||1521||1600||1681||1764||1849||1936||2025||2116||2209||2304||2401||2500||\n",
            "1||5||12||22||35||51||70||92||117||145||176||210||247||287||330||376||425||477||532||590||651||715||782||852||925||1001||1080||1162||1247||1335||1426||1520||1617||\n"
          ]
        }
      ]
    },
    {
      "cell_type": "code",
      "source": [
        "# the coprime\n",
        "\n",
        "# coprime means only a and b share 1 as a divisor\n",
        "# ex 12 shares only a 1 with 1,5,7 and 11\n",
        "\n",
        "def isCoPrime(a,b):\n",
        "  #make sure a is less then b\n",
        "  if(a > b):\n",
        "    holder = a\n",
        "    a = b\n",
        "    b = holder\n",
        "  for i in range(2,a+1):\n",
        "    if(a%i ==0 and b%i == 0):\n",
        "      return False\n",
        "  return True\n",
        "\n",
        "def listCoPrimes(num):\n",
        "  total = 0\n",
        "  coprimes = []\n",
        "  for i in range(1,num):\n",
        "    if isCoPrime(i, num):\n",
        "      coprimes.append(i)\n",
        "      total += 1\n",
        "  print(f\"Coprime:  {coprimes}\\n Total: {total}\")\n",
        "\n",
        "listCoPrimes(12)"
      ],
      "metadata": {
        "id": "vjel_xnXfjX_",
        "colab": {
          "base_uri": "https://localhost:8080/"
        },
        "outputId": "ab41484e-798f-42c5-fcae-ba64e6289118"
      },
      "execution_count": 33,
      "outputs": [
        {
          "output_type": "stream",
          "name": "stdout",
          "text": [
            "Coprime:  [1, 5, 7, 11]\n",
            " Total: 4\n"
          ]
        }
      ]
    },
    {
      "cell_type": "code",
      "source": [
        "#Q7 twin prime\n",
        "\n",
        "\n",
        "def isPrime(num):\n",
        "  for i in range(2, num):\n",
        "    if (num % i == 0):\n",
        "      return False\n",
        "    return True\n",
        "\n",
        "\n",
        "def isTwinPrime(start,fin):\n",
        "  for i in range(start, fin):\n",
        "    twin= i + 2\n",
        "    if( isPrime(i) and isPrime(twin)):\n",
        "      print(f\"{i} and {twin}\")\n",
        "\n",
        "\n",
        "\n",
        "def isTwinP(s):\n",
        "  if(isPrime(s) and isPrime(s)):\n",
        "    return True\n",
        "  return False\n",
        "\n",
        "def listTwinPrimes(num):\n",
        "  for i in range(2,num+1):\n",
        "    if(isTwinP(i)):\n",
        "      print(i,i+2)\n",
        "\n",
        "\n",
        "isTwinPrime(2,25)\n",
        "listTwinPrimes(25)"
      ],
      "metadata": {
        "colab": {
          "base_uri": "https://localhost:8080/"
        },
        "id": "xulcRGCWmvG4",
        "outputId": "113ea8f1-5070-4955-e49e-091965dab3af"
      },
      "execution_count": 43,
      "outputs": [
        {
          "output_type": "stream",
          "name": "stdout",
          "text": [
            "3 and 5\n",
            "5 and 7\n",
            "7 and 9\n",
            "9 and 11\n",
            "11 and 13\n",
            "13 and 15\n",
            "15 and 17\n",
            "17 and 19\n",
            "19 and 21\n",
            "21 and 23\n",
            "23 and 25\n",
            "3 5\n",
            "5 7\n",
            "7 9\n",
            "9 11\n",
            "11 13\n",
            "13 15\n",
            "15 17\n",
            "17 19\n",
            "19 21\n",
            "21 23\n",
            "23 25\n",
            "25 27\n"
          ]
        }
      ]
    },
    {
      "cell_type": "code",
      "source": [
        "#q8\n",
        "\n",
        "#Two people are playing the game rock, paper, scissors.\n",
        "#Create a function that finds the probability of winning for each option using \n",
        "#10,000 trials.  Output said probabilities\n",
        "\n",
        "import random as rnd\n",
        "\n",
        "rock = paper = scissors = 0\n",
        "\n",
        "for i in range(10000):\n",
        "  playerOne = rnd.randint(1,3)\n",
        "  playerTwo = rnd.randint(1,3)\n",
        "\n",
        "  # only case where rock wins\n",
        "  if ( (playerOne == 1 and playerTwo == 3) or (playerTwo == 1 and playerOne == 3) ):\n",
        "    rock +=1\n",
        "  # way paper wins\n",
        "  elif( (playerOne == 2 and playerTwo == 1) or (playerTwo == 2 and playerOne == 1)  ):\n",
        "    paper +=1\n",
        "  elif( (playerOne == 3 and playerTwo == 2) or (playerTwo == 3 and playerOne == 2)  ):\n",
        "    scissors +=1\n",
        "\n",
        "print(rock/10000)\n",
        "print(paper/10000)\n",
        "print(scissors/10000)\n",
        "print( (10000-( rock + paper + scissors)) / 10000)\n"
      ],
      "metadata": {
        "colab": {
          "base_uri": "https://localhost:8080/"
        },
        "id": "-57wxEvYotfU",
        "outputId": "9ad3ca24-8974-4e1c-9324-06ed5a3111ab"
      },
      "execution_count": 44,
      "outputs": [
        {
          "output_type": "stream",
          "name": "stdout",
          "text": [
            "0.2178\n",
            "0.2217\n",
            "0.2206\n",
            "0.3399\n"
          ]
        }
      ]
    },
    {
      "cell_type": "code",
      "source": [
        "# Q9\n",
        "# Monty Hall problem\n",
        "import random as rnd\n",
        "\n",
        "\n",
        "def noChange():\n",
        "  # set 1 and 2 to a goat and 3 to a prize\n",
        "  myList = [1,2,3]\n",
        "  rnd.shuffle(myList)\n",
        "  # set up goats and prize\n",
        "  doors = [ \"goat\", \"goat\", \"goat\"]\n",
        "  doors[myList.index(3)] = \"prize\"\n",
        "  \n",
        "  if(doors[0] == 'prize'):\n",
        "    return True\n",
        "  else:\n",
        "    return False\n",
        "\n",
        "def measureNoChange():\n",
        "  total = 0\n",
        "  for i in range(100000):\n",
        "    if(noChange()):\n",
        "      total+=1\n",
        "  print(total/100000)\n",
        "\n",
        "measureNoChange()\n"
      ],
      "metadata": {
        "colab": {
          "base_uri": "https://localhost:8080/"
        },
        "id": "IV9dI321skpF",
        "outputId": "97f2efc4-9fbd-4e29-b05b-5539360591e8"
      },
      "execution_count": 56,
      "outputs": [
        {
          "output_type": "stream",
          "name": "stdout",
          "text": [
            "0.33365\n"
          ]
        }
      ]
    },
    {
      "cell_type": "code",
      "source": [
        "import random as rnd\n",
        "\n",
        "def yesChange():\n",
        "  # set 1 and 2 to a goat and 3 to a prize\n",
        "  myList = [1,2,3]\n",
        "  rnd.shuffle(myList)\n",
        "  # set up goats and prize\n",
        "  doors = [ \"goat\", \"goat\", \"goat\"]\n",
        "  doors[myList.index(3)] = \"prize\"\n",
        "  # choose door\n",
        "  choice = 0\n",
        "  # create sublist\n",
        "  toShow = doors[1:3]\n",
        "  door_to_show = toShow.index(\"goat\")\n",
        "\n",
        "  if(door_to_show == 0):\n",
        "\n",
        "    if(doors[2] == \"prize\"):\n",
        "      return True\n",
        "    else:\n",
        "      return False\n",
        "\n",
        "  elif(door_to_show == 1):\n",
        "\n",
        "    if(doors[1] == \"prize\"):\n",
        "      return True\n",
        "    else:\n",
        "      return False\n",
        "\n",
        "def measureYesChange():\n",
        "  total = 0\n",
        "  for i in range(100000):\n",
        "    if(yesChange()):\n",
        "      total+=1\n",
        "  print(total/100000)\n",
        "\n",
        "measureYesChange()"
      ],
      "metadata": {
        "colab": {
          "base_uri": "https://localhost:8080/"
        },
        "id": "-_m9U8Sv0CSC",
        "outputId": "8d9fcf97-6918-4e1d-9d33-0f4c5d9a0cb5"
      },
      "execution_count": 55,
      "outputs": [
        {
          "output_type": "stream",
          "name": "stdout",
          "text": [
            "0.66715\n"
          ]
        }
      ]
    }
  ]
}