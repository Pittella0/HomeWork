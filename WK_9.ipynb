{
  "nbformat": 4,
  "nbformat_minor": 0,
  "metadata": {
    "colab": {
      "name": "WK_9.ipynb",
      "provenance": [],
      "collapsed_sections": [],
      "authorship_tag": "ABX9TyMzFYz/6PSLZW4lbb0HF41+",
      "include_colab_link": true
    },
    "kernelspec": {
      "name": "python3",
      "display_name": "Python 3"
    },
    "language_info": {
      "name": "python"
    }
  },
  "cells": [
    {
      "cell_type": "markdown",
      "metadata": {
        "id": "view-in-github",
        "colab_type": "text"
      },
      "source": [
        "<a href=\"https://colab.research.google.com/github/Pittella0/HomeWork/blob/main/WK_9.ipynb\" target=\"_parent\"><img src=\"https://colab.research.google.com/assets/colab-badge.svg\" alt=\"Open In Colab\"/></a>"
      ]
    },
    {
      "cell_type": "code",
      "execution_count": 15,
      "metadata": {
        "colab": {
          "base_uri": "https://localhost:8080/"
        },
        "id": "bgsIX-v2ZvCS",
        "outputId": "e0bea136-cd1c-4a35-c8da-b35ebab51666"
      },
      "outputs": [
        {
          "output_type": "stream",
          "name": "stdout",
          "text": [
            "[[ 1  2  2  4  5  6  3  6  7  5  8 11 13  1  3  4 17 17 17 14]]\n",
            "17\n",
            "1\n",
            "7.3\n",
            "5.395368384086484\n",
            "5.281815088154988\n"
          ]
        }
      ],
      "source": [
        "# Question 1\n",
        "# with out class help\n",
        "\n",
        "import numpy as np\n",
        "import random as rand\n",
        "\n",
        "def make_rand_list():\n",
        "  rand_list = []\n",
        "  for i in range(1, 21):\n",
        "    randy = rand.randint(1,i)\n",
        "    rand_list.append(randy)\n",
        "  return rand_list\n",
        "\n",
        "def np_max(nplist):\n",
        "  res = np.amax(nplist)\n",
        "  return res\n",
        "\n",
        "def np_min(nplist):\n",
        "  res = np.amin(nplist)\n",
        "  return res\n",
        "\n",
        "def np_av(nplist):\n",
        "  res = np.average(nplist)\n",
        "  return res\n",
        "\n",
        "def np_STD(nplist):\n",
        "  res = np.std(nplist)\n",
        "  return res\n",
        "\n",
        "def np_GEO_mean(nplist):\n",
        "  return np.exp(np.mean(np.log(nplist)))\n",
        "\n",
        "if __name__  == \"__main__\":\n",
        "  nplist = np.array([make_rand_list()])\n",
        "  print(nplist)\n",
        "  print(np_max(nplist))\n",
        "  print(np_min(nplist))\n",
        "  print(np_av(nplist))\n",
        "  print(np_STD(nplist))\n",
        "  print(np_GEO_mean(nplist))"
      ]
    },
    {
      "cell_type": "code",
      "source": [
        "# Also Question 1 but with class help\n",
        "import math as maf\n",
        "# def math_max(num1,num2):\n",
        "#   if (num1 > num2 ):\n",
        "#     return num1\n",
        "#   return num2\n",
        "\n",
        "\n",
        "def make_rand_list():\n",
        "  rand_list = []\n",
        "  for i in range(1, 21):\n",
        "    randy = rand.randint(1,i)\n",
        "    rand_list.append(randy)\n",
        "  return rand_list\n",
        "\n",
        "def max2(numbers):\n",
        "  _max = numbers[0]\n",
        "  for i in numbers:\n",
        "    if _max < i:\n",
        "      _max = i\n",
        "  return _max\n",
        "\n",
        "\n",
        "# def math_min(num1,num2):\n",
        "#   if (num1 > num2 ):\n",
        "#     return num2\n",
        "#   return num1\n",
        "\n",
        "def min2(numbers):\n",
        "  _min = numbers[0]\n",
        "  for i in numbers:\n",
        "    if _min > i:\n",
        "      _min = i\n",
        "  return _min\n",
        "\n",
        "\n",
        "# list1 = [1,2,3,4,5,6,7,8,9,10]\n",
        "# def math_avg(list1):\n",
        "#   _av = sum(list1) / len(list1)\n",
        "#   return _av\n",
        "\n",
        "\n",
        "def av2(numbers):\n",
        "  _total = 0\n",
        "  for i in numbers:\n",
        "    _total += i\n",
        "  return _total//len(numbers)\n",
        "\n",
        "\n",
        "def geo_av(numbers):\n",
        "  _tot = 1\n",
        "  for i in numbers:\n",
        "    _tot *= i\n",
        "  return _tot**(1/len(numbers))\n",
        "\n",
        "def STD(numbers):\n",
        "  _tot = 0\n",
        "  _av = av2(numbers)\n",
        "  for i in numbers:\n",
        "    _tot = _tot + (i - _av)**2\n",
        "  return maf.sqrt(_tot/len(numbers)-1)\n",
        "\n",
        "\n",
        "  \n",
        "if __name__  == \"__main__\":\n",
        "  nplist = make_rand_list()\n",
        "  print(nplist)\n",
        "  print(max2(nplist))\n",
        "  print(min2(nplist))\n",
        "  print(av2(nplist))\n",
        "  print(geo_av(nplist))\n",
        "  print(STD(nplist))"
      ],
      "metadata": {
        "colab": {
          "base_uri": "https://localhost:8080/"
        },
        "id": "Jxjd9RXGcrVv",
        "outputId": "d9e87a92-d4b2-4f36-be55-32eab24ebf11"
      },
      "execution_count": 17,
      "outputs": [
        {
          "output_type": "stream",
          "name": "stdout",
          "text": [
            "[1, 2, 2, 3, 1, 3, 6, 6, 4, 6, 7, 6, 12, 4, 2, 8, 2, 16, 9, 6]\n",
            "16\n",
            "1\n",
            "5\n",
            "4.092121543671408\n",
            "3.6193922141707713\n"
          ]
        }
      ]
    },
    {
      "cell_type": "code",
      "source": [
        "import math as maf\n",
        "# Question 2\n",
        "\n",
        "\"\"\"\n",
        "Create a function that asks the user which shape they would like to analyze. \n",
        "It should then call other functions based on this and return the area of the \n",
        "shape.  The triangle function should take in the base and height, \n",
        "the circle function should take in the radius, and the square function \n",
        "should take in the side length.\n",
        "\"\"\"\n",
        "\n",
        "\n",
        "def circleAres(radius):\n",
        "  return maf.pi*radius**2\n",
        "\n",
        "def rectangleArea(length, width):\n",
        "  return length*width\n",
        "\n",
        "def squareArea(side):\n",
        "  return side*side\n",
        "\n",
        "def triangleArea(base,height):\n",
        "  return base*height/2\n",
        "\n",
        "\n",
        "def genArea():\n",
        "  value = input(\"What area do you want? [circle, rectangle, square, triangle]: \")\n",
        "\n",
        "  if value == \"circle\":\n",
        "    radius = float(input(\"whats the radius?: \"))\n",
        "    print(f\"The area is {circleAres(radius)}\")\n",
        "\n",
        "  elif value == \"rectangle\":\n",
        "    length = float(input(\"whats the length?: \"))\n",
        "    width = float(input(\"whats the width?: \"))\n",
        "    print(f\"The area is { rectangleArea(length, width) }\")\n",
        "\n",
        "  elif value == \"square\":\n",
        "    side = float(input(\"whats the sides?: \"))\n",
        "    print(f\"The area is {squareArea(side)}\")\n",
        "\n",
        "  elif value == \"triangle\":\n",
        "    base= float(input(\"whats the base?: \"))\n",
        "    height= float(input(\"whats the height?: \"))\n",
        "    print(f\"The area is {triangleArea(base,height)}\")\n",
        "\n",
        "genArea()"
      ],
      "metadata": {
        "colab": {
          "base_uri": "https://localhost:8080/"
        },
        "id": "tt_9xVk9tx11",
        "outputId": "9cd2351d-31cd-4762-eb22-b034ae04ef69"
      },
      "execution_count": 38,
      "outputs": [
        {
          "output_type": "stream",
          "name": "stdout",
          "text": [
            "What area do you want? [circle, rectangle, square, triangle]: circle\n",
            "whats the radius?: 15\n",
            "The area is 706.8583470577034\n"
          ]
        }
      ]
    },
    {
      "cell_type": "code",
      "source": [
        "# Question 3\n",
        "import numpy as np\n",
        "\"\"\"\n",
        "Create a function that takes in a list and returns the list doubled. \n",
        "It should ask the user for option one or two. If the user chooses option \n",
        "one it should return the list doubled such as [1 2 3] becoming [1 2 3 1 2 3],\n",
        "if the user chooses option two then is should return the list such as [1 2 3]\n",
        "becoming [2 4 6].\n",
        "\"\"\"\n",
        "\n",
        "\n",
        "def doubleList():\n",
        "  choice = int(input(\"Want a number 1 or a number 2?: \"))\n",
        "  x = [1,2,3]\n",
        "  y = [1,2,3]\n",
        "  if choice == 1:\n",
        "    print(x+y)\n",
        "  else:\n",
        "    print(np.array(x) + np.array(y))\n",
        "\n",
        "doubleList()"
      ],
      "metadata": {
        "colab": {
          "base_uri": "https://localhost:8080/"
        },
        "id": "RhWifwOjwJwR",
        "outputId": "25b468ff-0ca0-4409-da84-7032a7d17561"
      },
      "execution_count": 19,
      "outputs": [
        {
          "output_type": "stream",
          "name": "stdout",
          "text": [
            "Want a number 1 or a number 2?: 1\n",
            "[1, 2, 3, 1, 2, 3]\n"
          ]
        }
      ]
    },
    {
      "cell_type": "code",
      "source": [
        "# Question4\n",
        "\n",
        "\"\"\"\n",
        "Create a function that takes in two lists and concatenates the numbers\n",
        "in those lists. For instance, if we have [1 2 3] and [7 8 9], \n",
        "we should return [17 28 39].\n",
        "\"\"\"\n",
        "list1 = [2,4,6]\n",
        "list2 = [1,3,9]\n",
        "\n",
        "def list_smush(list1,list2):\n",
        "  smash_list = []\n",
        "  for i in range(len(list1)):\n",
        "    smash_list.append(int(str(list1[i]) + str(list2[i])))\n",
        "  return smash_list\n",
        "\n",
        "print(list_smush(list1,list2))\n"
      ],
      "metadata": {
        "colab": {
          "base_uri": "https://localhost:8080/"
        },
        "id": "jzPuXUrVxNG-",
        "outputId": "19e94c42-73dd-4a0e-82c7-19b2ecbf9fb6"
      },
      "execution_count": 29,
      "outputs": [
        {
          "output_type": "stream",
          "name": "stdout",
          "text": [
            "[21, 43, 69]\n"
          ]
        }
      ]
    },
    {
      "cell_type": "code",
      "source": [
        "# Question 5\n",
        "\"\"\"\n",
        "Create a function that returns a list of primes up until the number passed in.\n",
        "So if 100 is passed in, it should return all the primes up until 100.\n",
        "\"\"\"\n",
        "def isPrime(num):\n",
        "  for i in range(2, num):\n",
        "    if (num % i == 0):\n",
        "      return False\n",
        "    return True\n",
        "\n",
        "def listPrime(amount):\n",
        "  nuList=[]\n",
        "  count = 0\n",
        "  checkVal=2\n",
        "  while(count < amount):\n",
        "    if (isPrime(checkVal)):\n",
        "      nuList.append(checkVal)\n",
        "      count+=1\n",
        "    checkVal+=1\n",
        "  return nuList\n",
        "\n",
        "\n",
        "print(listPrime(100))"
      ],
      "metadata": {
        "colab": {
          "base_uri": "https://localhost:8080/"
        },
        "id": "1OBjzxlIzVc0",
        "outputId": "1674359d-d379-474a-83c2-c18d771fcc97"
      },
      "execution_count": 30,
      "outputs": [
        {
          "output_type": "stream",
          "name": "stdout",
          "text": [
            "[3, 5, 7, 9, 11, 13, 15, 17, 19, 21, 23, 25, 27, 29, 31, 33, 35, 37, 39, 41, 43, 45, 47, 49, 51, 53, 55, 57, 59, 61, 63, 65, 67, 69, 71, 73, 75, 77, 79, 81, 83, 85, 87, 89, 91, 93, 95, 97, 99, 101, 103, 105, 107, 109, 111, 113, 115, 117, 119, 121, 123, 125, 127, 129, 131, 133, 135, 137, 139, 141, 143, 145, 147, 149, 151, 153, 155, 157, 159, 161, 163, 165, 167, 169, 171, 173, 175, 177, 179, 181, 183, 185, 187, 189, 191, 193, 195, 197, 199, 201]\n"
          ]
        }
      ]
    },
    {
      "cell_type": "code",
      "source": [
        "\n",
        "# Question 6\n",
        "\n",
        "\"\"\"\n",
        "Write a function calculation() such that it can accept two variables \n",
        "and calculate the multiplication and divison of it. And also it must return \n",
        "both results in a single return call\n",
        "\n",
        "\"\"\"\n",
        "\n",
        "def calculator(one,two):\n",
        "  return one*two, one/two\n",
        "\n",
        "myval= calculator(9,2)\n",
        "print(myval[0])\n",
        "print(myval[1])"
      ],
      "metadata": {
        "colab": {
          "base_uri": "https://localhost:8080/"
        },
        "id": "AEByt9u71SKH",
        "outputId": "f0c08567-4d1c-4746-94e3-7fc0a2f05d7b"
      },
      "execution_count": 31,
      "outputs": [
        {
          "output_type": "stream",
          "name": "stdout",
          "text": [
            "18\n",
            "4.5\n"
          ]
        }
      ]
    },
    {
      "cell_type": "code",
      "source": [
        "# Question 7\n",
        "\n",
        "\"\"\"\n",
        "If we list all the natural numbers below 10 that are multiples of 3 or 5, \n",
        "we get 3, 5, 6 and 9. The sum of these multiples is 23.Find the sum of all \n",
        "the multiples of 3 or 5 below 1000.\n",
        "\"\"\"\n",
        "\n",
        "myList = []\n",
        "\n",
        "for i in range(1000):\n",
        "  if (i %3 ==0 ) or (i % 5 ==0):\n",
        "    myList.append(i)\n",
        "total = 0\n",
        "for i in myList:\n",
        "  total = total + i\n",
        "\n",
        "print(total)"
      ],
      "metadata": {
        "colab": {
          "base_uri": "https://localhost:8080/"
        },
        "id": "k_wVCj3F1tFI",
        "outputId": "f6cf3d8f-2afe-4e7c-c93d-1bdc6fb42fc2"
      },
      "execution_count": 34,
      "outputs": [
        {
          "output_type": "stream",
          "name": "stdout",
          "text": [
            "233168\n"
          ]
        }
      ]
    },
    {
      "cell_type": "code",
      "source": [
        "# Question 8\n",
        "\n",
        "\"\"\"\n",
        "Find the sum of the even valued Fibonacci numbers below 500.\n",
        "\"\"\"\n",
        "\n",
        "bound = 500\n",
        "num1 = 1\n",
        "num2 = 2\n",
        "num3 = num1 + num2\n",
        "total = 0\n",
        "\n",
        "\n",
        "while num3 < bound:\n",
        "  num3 = num1 + num2\n",
        "  if (num3 % 2 ==0 )and (num3 < bound) :\n",
        "    total += num3\n",
        "  num1 = num2\n",
        "  num2 = num3\n",
        "print(total)\n",
        "\n",
        "\n",
        "\n",
        "\n",
        "\n",
        "\n",
        "\n"
      ],
      "metadata": {
        "colab": {
          "base_uri": "https://localhost:8080/"
        },
        "id": "LzIsRzF72gsA",
        "outputId": "a069eae4-d2ba-47b9-d578-aa260dc0ed17"
      },
      "execution_count": 36,
      "outputs": [
        {
          "output_type": "stream",
          "name": "stdout",
          "text": [
            "186\n"
          ]
        }
      ]
    }
  ]
}