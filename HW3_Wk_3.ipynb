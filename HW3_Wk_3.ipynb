{
  "nbformat": 4,
  "nbformat_minor": 0,
  "metadata": {
    "colab": {
      "name": "HW Wk 3",
      "provenance": [],
      "authorship_tag": "ABX9TyP/Y0B1uxEy5CudJCyL6ndY",
      "include_colab_link": true
    },
    "kernelspec": {
      "name": "python3",
      "display_name": "Python 3"
    },
    "language_info": {
      "name": "python"
    }
  },
  "cells": [
    {
      "cell_type": "markdown",
      "metadata": {
        "id": "view-in-github",
        "colab_type": "text"
      },
      "source": [
        "<a href=\"https://colab.research.google.com/github/Pittella0/HomeWork_2/blob/main/HW3_Wk_3.ipynb\" target=\"_parent\"><img src=\"https://colab.research.google.com/assets/colab-badge.svg\" alt=\"Open In Colab\"/></a>"
      ]
    },
    {
      "cell_type": "markdown",
      "source": [
        "#**HW Wk 3**\n",
        "\n",
        "This is a *investment calculator*. \n",
        "\n",
        "you input principle, rate of return, and time.\n",
        "\n",
        "function outputs returns for every 5 years of the time period\n",
        "\n",
        "The finished product is at the bottom of this page, every thing leading up to it is how i got there."
      ],
      "metadata": {
        "id": "8PUUW7lhQ2Z_"
      }
    },
    {
      "cell_type": "markdown",
      "source": [
        "$P(1+R)^T$\n",
        "\n",
        "P = principle\n",
        "\n",
        "R = rate\n",
        "\n",
        "T = time"
      ],
      "metadata": {
        "id": "bSwajkWQVtgv"
      }
    },
    {
      "cell_type": "code",
      "execution_count": 10,
      "metadata": {
        "colab": {
          "base_uri": "https://localhost:8080/"
        },
        "id": "uSXT0GpGQh8I",
        "outputId": "c2e50520-08d9-4e3b-fb26-bda418388329"
      },
      "outputs": [
        {
          "output_type": "stream",
          "name": "stdout",
          "text": [
            "The future value is: 105.0\n",
            "<class 'int'>\n"
          ]
        }
      ],
      "source": [
        "prin = 100\n",
        "rate = .05\n",
        "time = 1\n",
        "\n",
        "FV = prin*(1+rate)**time\n",
        "\n",
        "print(f\"The future value is: {FV}\")\n"
      ]
    },
    {
      "cell_type": "code",
      "source": [
        "\n",
        "\n",
        "def find_future():\n",
        "  \"\"\"Function finds future value\"\"\"\n",
        "  principle = int(input(\"Put the principlein in: \"))\n",
        "  rate = float(input(\"Put the rate in: \"))\n",
        "  time = int(input(\"Put the time in: \"))\n",
        "\n",
        "  FV = principle*(1+rate)**time\n",
        "\n",
        "  print(f\"The future value is: {FV}\")\n",
        "\n",
        "\n",
        "\n",
        "if __name__ == \"__main__\":\n",
        "  find_future()"
      ],
      "metadata": {
        "colab": {
          "base_uri": "https://localhost:8080/"
        },
        "id": "09AIdxafRd-T",
        "outputId": "2d009be3-54c7-4ec0-b06b-8c2dfdb36918"
      },
      "execution_count": 13,
      "outputs": [
        {
          "output_type": "stream",
          "name": "stdout",
          "text": [
            "Put the principlein in: 1200\n",
            "Put the rate in: .11\n",
            "Put the rate in: 5\n",
            "The future value is: 2022.069786120001\n"
          ]
        }
      ]
    },
    {
      "cell_type": "code",
      "source": [
        "\n",
        "\n",
        "prin = 1200\n",
        "rate = .11\n",
        "time = 30\n",
        "\n",
        "for i in range(0,41,5):\n",
        "  FV = prin*(1+rate)**i\n",
        "  print(f\"{i} \\t{round(FV,2)}\")\n"
      ],
      "metadata": {
        "colab": {
          "base_uri": "https://localhost:8080/"
        },
        "id": "QiDf-_7uWL2L",
        "outputId": "163eee3b-9efc-4c3c-bc1e-823daa3859d1"
      },
      "execution_count": 20,
      "outputs": [
        {
          "output_type": "stream",
          "name": "stdout",
          "text": [
            "0 \t1200.0\n",
            "5 \t2022.07\n",
            "10 \t3407.31\n",
            "15 \t5741.51\n",
            "20 \t9674.77\n",
            "25 \t16302.56\n",
            "30 \t27470.76\n",
            "35 \t46289.82\n",
            "40 \t78001.04\n"
          ]
        }
      ]
    },
    {
      "cell_type": "code",
      "source": [
        "def find_future():\n",
        "  \"\"\"Function finds future value\"\"\"\n",
        "  #put in principle\n",
        "  principle = int(input(\"What is the monthly amount you will invest? \\t\"))\n",
        "  #multiply by 12 for yearly amount\n",
        "  principle *= 12\n",
        "\n",
        "  #get the rate\n",
        "  rate = float(input(\"What is the rate you expect to earn? \\t\"))\n",
        "  #if the rate is not in percent form divide by 100 and fix it\n",
        "  #ex 5% = .05 not 5\n",
        "  if (rate > 1):\n",
        "    rate/100\n",
        "\n",
        "  time = int(input(\"How long are you holding this investment? \\t\"))\n",
        "\n",
        "  # calculate the return every 5 years\n",
        "  # time + 1 bc 10 = 0-9\n",
        "  for i in range(0,time+1,5):\n",
        "    FV = principle*(1+rate)**i\n",
        "\n",
        "    print(f\"{i} \\t${round(FV,2)}\")\n",
        "  \n",
        "if __name__ == \"__main__\":\n",
        "  find_future()"
      ],
      "metadata": {
        "colab": {
          "base_uri": "https://localhost:8080/"
        },
        "id": "VdhikFX-X68s",
        "outputId": "f4f4e0b0-8cab-4baa-c4c9-5374218b9b62"
      },
      "execution_count": 2,
      "outputs": [
        {
          "output_type": "stream",
          "name": "stdout",
          "text": [
            "What is the monthly amount you will invest? \t200\n",
            "What is the rate you expect to earn? \t.09\n",
            "How long are you holding this investment? \t40\n",
            "0 \t$2400.0\n",
            "5 \t$3692.7\n",
            "10 \t$5681.67\n",
            "15 \t$8741.96\n",
            "20 \t$13450.59\n",
            "25 \t$20695.39\n",
            "30 \t$31842.43\n",
            "35 \t$48993.52\n",
            "40 \t$75382.61\n"
          ]
        }
      ]
    },
    {
      "cell_type": "markdown",
      "source": [
        "$PV= P / (1 + R) ^ T$\n"
      ],
      "metadata": {
        "id": "huFyvQrfkcQd"
      }
    },
    {
      "cell_type": "code",
      "source": [
        "def find_future():\n",
        "  \"\"\"Function finds future value\"\"\"\n",
        "  #put in principle\n",
        "  principle = int(input(\"What is the monthly amount you will invest? \\t\"))\n",
        "  #multiply by 12 for yearly amount\n",
        "  principle *= 12\n",
        "\n",
        "  #get the rate\n",
        "  rate = float(input(\"What is the rate you expect to earn? \\t\"))\n",
        "  #if the rate is not in percent form divide by 100 and fix it\n",
        "  #ex 5% = .05 not 5\n",
        "  if (rate > 1):\n",
        "    rate/100\n",
        "\n",
        "  time = int(input(\"How long are you holding this investment? \\t\"))\n",
        "\n",
        "  # calculate the return every 5 years\n",
        "  # time + 1 bc 10 = 0-9\n",
        "  # for i in range(0,time+1,5):\n",
        "    # PV = principle/(1+rate)**i\n",
        "    #print(f\"{i} \\t${round(FV,2)}\")\n",
        "    #print(f\"{i} \\t${round(PV,2)}\")\n",
        "    # print(f\"{i} \\t${PV:,.2f}\")\n",
        "\n",
        "  PV = principle/(1+rate)**i\n",
        "  print(f\"Present value of your investment \\t${PV:,.2f}\")\n",
        "\n",
        "if __name__ == \"__main__\":\n",
        "  find_future()"
      ],
      "metadata": {
        "colab": {
          "base_uri": "https://localhost:8080/"
        },
        "id": "I8G_P95HZe6F",
        "outputId": "970e140c-117a-4952-a95e-a769da2aac2b"
      },
      "execution_count": 5,
      "outputs": [
        {
          "output_type": "stream",
          "name": "stdout",
          "text": [
            "What is the monthly amount you will invest? \t100000\n",
            "What is the rate you expect to earn? \t.1\n",
            "How long are you holding this investment? \t30\n",
            "Present value of your investment \t$68,770.26\n"
          ]
        }
      ]
    },
    {
      "cell_type": "code",
      "source": [
        ""
      ],
      "metadata": {
        "id": "aNS4ogiqns3l"
      },
      "execution_count": null,
      "outputs": []
    }
  ]
}