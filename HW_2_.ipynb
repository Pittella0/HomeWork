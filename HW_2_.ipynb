{
  "nbformat": 4,
  "nbformat_minor": 0,
  "metadata": {
    "colab": {
      "name": "HW_2_.ipynb",
      "provenance": [],
      "collapsed_sections": [],
      "toc_visible": true,
      "authorship_tag": "ABX9TyO4Crbi8f8ZRkSEgaim8bM1",
      "include_colab_link": true
    },
    "kernelspec": {
      "name": "python3",
      "display_name": "Python 3"
    },
    "language_info": {
      "name": "python"
    }
  },
  "cells": [
    {
      "cell_type": "markdown",
      "metadata": {
        "id": "view-in-github",
        "colab_type": "text"
      },
      "source": [
        "<a href=\"https://colab.research.google.com/github/Pittella0/HomeWork_2/blob/main/HW_2_.ipynb\" target=\"_parent\"><img src=\"https://colab.research.google.com/assets/colab-badge.svg\" alt=\"Open In Colab\"/></a>"
      ]
    },
    {
      "cell_type": "markdown",
      "source": [
        "# HW 2\n",
        "Hello, my name is **Tony Pittella**. I am a *Veteran*, I served in the *U.S. Navy*. I was deployed on the **CVN - 70 Carl Vinson** as a **H60**-Sierra Avionics Electronics Technician (AT). My old squadron is called HSC-4 Black Knights.\n",
        "\n",
        "\n",
        "The boat i was on:\n",
        "\n",
        "[CVN-70](https://en.wikipedia.org/wiki/USS_Carl_Vinson)\n",
        "\n",
        "The squadron is was attached to:\n",
        "\n",
        "[HSC-4](https://en.wikipedia.org/wiki/HSC-4)\n",
        "\n",
        "The Helicopter i worked on:\n",
        "\n",
        "[H60S](https://en.wikipedia.org/wiki/Sikorsky_SH-60_Seahawk)"
      ],
      "metadata": {
        "id": "8Ydt6jyqOH4O"
      }
    },
    {
      "cell_type": "code",
      "source": [
        "# my name and favorite number\n",
        "T = o = n = y = 9\n",
        "# what a \"cool\" word\n",
        "word = \"cool\"\n",
        "#prints T as a int and the type int\n",
        "print(T)\n",
        "print(\"the type of T right now is\\t\",type(T))\n",
        "#prints T as a string representation of 9 and the type \n",
        "print(str(T))\n",
        "print(\"the type of T right now is\\n\",type(str(T)))\n"
      ],
      "metadata": {
        "colab": {
          "base_uri": "https://localhost:8080/"
        },
        "id": "oOpLKIXqRAFZ",
        "outputId": "80ed917b-4505-4447-8a54-7222b444d9ab"
      },
      "execution_count": null,
      "outputs": [
        {
          "output_type": "stream",
          "name": "stdout",
          "text": [
            "9\n",
            "the type of T right now is\t <class 'int'>\n",
            "9\n",
            "the type of T right now is\n",
            " <class 'str'>\n"
          ]
        }
      ]
    },
    {
      "cell_type": "code",
      "source": [
        "#you input a number\n",
        "x = int(input(\"Hey, you, gimme a number\\t\"))\n",
        "# it prints the number\n",
        "print(\"So your number is... \",x)"
      ],
      "metadata": {
        "colab": {
          "base_uri": "https://localhost:8080/"
        },
        "id": "tjkwOmxRR77l",
        "outputId": "ad219601-e058-475f-91e7-afaeca4fa3d3"
      },
      "execution_count": null,
      "outputs": [
        {
          "output_type": "stream",
          "name": "stdout",
          "text": [
            "Hey, you, gimme a number\t6\n",
            "/nSo your number is...  6\n"
          ]
        }
      ]
    },
    {
      "cell_type": "code",
      "source": [
        "# Professional code setting\n",
        "\n",
        "def print_the_things(str_):\n",
        "  print(\"The thing you want to print is: \", str(str_))\n",
        "\n",
        "if __name__ == \"__main__\":\n",
        "  str_ = \"Tony is pretty cool\"\n",
        "  print_the_things(str_)\n"
      ],
      "metadata": {
        "colab": {
          "base_uri": "https://localhost:8080/"
        },
        "id": "KvPH0L_DT-96",
        "outputId": "68e0d3be-388b-4bb5-e99d-742c89b20f19"
      },
      "execution_count": null,
      "outputs": [
        {
          "output_type": "stream",
          "name": "stdout",
          "text": [
            "The thing you want to print is:  Tony is pretty cool\n"
          ]
        }
      ]
    },
    {
      "cell_type": "markdown",
      "source": [
        "*laTex*\n",
        "\n",
        "$y = x^3$\n",
        "\n",
        "\n",
        "HTML\n",
        "\n",
        "y = x<sup>2</sup>"
      ],
      "metadata": {
        "id": "FP9wCzT6WZwO"
      }
    },
    {
      "cell_type": "code",
      "source": [
        "m = 135119.1345235\n",
        "print(f\"the variable is: ${m:,.2f}\")\n"
      ],
      "metadata": {
        "colab": {
          "base_uri": "https://localhost:8080/"
        },
        "id": "X8oeRAILaBRg",
        "outputId": "b89107d0-26a6-4d28-a56a-fa5ae5bb03b0"
      },
      "execution_count": null,
      "outputs": [
        {
          "output_type": "stream",
          "name": "stdout",
          "text": [
            "the variable is: $135,119.13\n"
          ]
        }
      ]
    }
  ]
}